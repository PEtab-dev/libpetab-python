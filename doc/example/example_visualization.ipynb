{
 "cells": [
  {
   "cell_type": "markdown",
   "metadata": {},
   "source": [
    "# Visualization of data and simulations"
   ]
  },
  {
   "cell_type": "markdown",
   "metadata": {},
   "source": [
    "In this notebook, we illustrate the visualization functions of petab."
   ]
  },
  {
   "cell_type": "code",
   "execution_count": null,
   "metadata": {
    "pycharm": {
     "is_executing": false
    },
    "scrolled": false
   },
   "outputs": [],
   "source": [
    "from petab.visualize import plot_problem, plot_without_vis_spec\n",
    "from petab import Problem\n",
    "from pathlib import Path\n",
    "import petab"
   ]
  },
  {
   "cell_type": "code",
   "execution_count": null,
   "metadata": {
    "pycharm": {
     "is_executing": false
    }
   },
   "outputs": [],
   "source": [
    "example_dir = Path(\"example_Isensee\")\n",
    "petab_problem = Problem.from_yaml(example_dir / \"Isensee.yaml\")"
   ]
  },
  {
   "cell_type": "code",
   "execution_count": null,
   "metadata": {},
   "outputs": [],
   "source": [
    "plot_problem(petab_problem);"
   ]
  },
  {
   "cell_type": "markdown",
   "metadata": {},
   "source": [
    "Now, we want to call the plotting routines without using the simulated data, only the visualization specification file."
   ]
  },
  {
   "cell_type": "code",
   "execution_count": null,
   "metadata": {},
   "outputs": [],
   "source": [
    "plot_problem(\n",
    "    petab_problem, simulations_df=example_dir / \"Isensee_simulationData.tsv\"\n",
    ");"
   ]
  },
  {
   "cell_type": "markdown",
   "metadata": {},
   "source": [
    "One can also plot only simulated data:"
   ]
  },
  {
   "cell_type": "code",
   "execution_count": null,
   "metadata": {},
   "outputs": [],
   "source": [
    "petab_problem_with_measurements = Problem.from_yaml(\n",
    "    example_dir / \"Isensee.yaml\"\n",
    ")\n",
    "petab_problem_with_measurements.measurement_df = None\n",
    "plot_problem(\n",
    "    petab_problem_with_measurements,\n",
    "    simulations_df=example_dir / \"Isensee_simulationData.tsv\",\n",
    ");"
   ]
  },
  {
   "cell_type": "markdown",
   "source": [
    "If the measurement file contains replicates, the replicates can also be visualized individually:"
   ],
   "metadata": {
    "collapsed": false
   }
  },
  {
   "cell_type": "code",
   "execution_count": null,
   "outputs": [],
   "source": [
    "petab_problem = Problem.from_yaml(example_dir / \"Isensee.yaml\")\n",
    "petab_problem.visualization_df = petab.get_visualization_df(\n",
    "    example_dir / \"Isensee_visualizationSpecification_replicates.tsv\"\n",
    ")\n",
    "plot_problem(\n",
    "    petab_problem, simulations_df=example_dir / \"Isensee_simulationData.tsv\"\n",
    ");"
   ],
   "metadata": {
    "collapsed": false
   }
  },
  {
   "cell_type": "markdown",
   "source": [
    "If both measurements and simulated data are available, they can be visualized using scatter plot:"
   ],
   "metadata": {}
  },
  {
   "cell_type": "code",
   "execution_count": null,
   "outputs": [],
   "source": [
    "petab_problem_scatterplot = Problem.from_yaml(example_dir / \"Isensee.yaml\")\n",
    "petab_problem_scatterplot.visualization_df = petab.get_visualization_df(\n",
    "    example_dir / \"Isensee_visualizationSpecification_scatterplot.tsv\"\n",
    ")\n",
    "plot_problem(\n",
    "    petab_problem_scatterplot,\n",
    "    simulations_df=example_dir / \"Isensee_simulationData.tsv\",\n",
    ");"
   ],
   "metadata": {}
  },
  {
   "cell_type": "markdown",
   "source": [
    "We can also call the plotting routine without the visualization specification file, but by passing a list of lists as `dataset_id_list`. Each sublist corresponds to a plot, and contains the datasetIds which should be plotted.\n",
    "In this simply structured plotting routine, the independent variable will always be time."
   ],
   "metadata": {}
  },
  {
   "cell_type": "code",
   "execution_count": null,
   "outputs": [],
   "source": [
    "datasets = [\n",
    "    [\n",
    "        \"JI09_150302_Drg345_343_CycNuc__4_ABnOH_and_ctrl\",\n",
    "        \"JI09_150302_Drg345_343_CycNuc__4_ABnOH_and_Fsk\",\n",
    "    ],\n",
    "    [\n",
    "        \"JI09_160201_Drg453-452_CycNuc__ctrl\",\n",
    "        \"JI09_160201_Drg453-452_CycNuc__Fsk\",\n",
    "        \"JI09_160201_Drg453-452_CycNuc__Sp8_Br_cAMPS_AM\",\n",
    "    ],\n",
    "]\n",
    "petab_problem = Problem.from_yaml(example_dir / \"Isensee.yaml\")\n",
    "plot_without_vis_spec(\n",
    "    petab_problem.condition_df,\n",
    "    measurements_df=petab_problem.measurement_df,\n",
    "    grouping_list=datasets,\n",
    "    group_by=\"dataset\",\n",
    ");"
   ],
   "metadata": {}
  },
  {
   "cell_type": "markdown",
   "metadata": {},
   "source": [
    "Let's look more closely at the plotting routines if no visualization specification file is provided. If such a file is missing, PEtab needs to know how to group the data points. For this, three options can be used:\n",
    " * dataset_id_list\n",
    " * sim_cond_id_lis\n",
    " * observable_id_list\n",
    "\n",
    "Each of them is a list of lists. Again, each sublist is a plot, and its content are either simulation condition IDs or observable IDs or the dataset IDs.\n",
    "\n",
    "We want to illustrate this functionality by using a simpler example, a model published in 2010 by Fujita et al."
   ]
  },
  {
   "cell_type": "code",
   "execution_count": null,
   "metadata": {},
   "outputs": [],
   "source": [
    "example_dir_fujita = Path(\"example_Fujita\")\n",
    "petab_problem_fujita = Problem.from_yaml(example_dir_fujita / \"Fujita.yaml\")\n",
    "# Plot 4 axes objects, plotting\n",
    "# - in the first window  all observables of the simulation condition 'model1_data1'\n",
    "# - in the second window all observables of the simulation conditions 'model1_data2', 'model1_data3'\n",
    "# - in the third window  all observables of the simulation conditions 'model1_data4', 'model1_data5'\n",
    "# - in the fourth window all observables of the simulation condition 'model1_data6'\n",
    "\n",
    "sim_cond_id_list = [\n",
    "    [\"model1_data1\"],\n",
    "    [\"model1_data2\", \"model1_data3\"],\n",
    "    [\"model1_data4\", \"model1_data5\"],\n",
    "    [\"model1_data6\"],\n",
    "]\n",
    "\n",
    "plot_without_vis_spec(\n",
    "    petab_problem_fujita.condition_df,\n",
    "    sim_cond_id_list,\n",
    "    \"simulation\",\n",
    "    petab_problem_fujita.measurement_df,\n",
    "    plotted_noise=\"provided\",\n",
    ");"
   ]
  },
  {
   "cell_type": "code",
   "execution_count": null,
   "metadata": {},
   "outputs": [],
   "source": [
    "# Plot 3 axes objects, plotting\n",
    "# - in the first window, the observable 'pS6_tot' for all simulation conditions\n",
    "# - in the second window, the observable 'pEGFR_tot' for all simulation conditions\n",
    "# - in the third window, the observable 'pAkt_tot' for all simulation conditions\n",
    "\n",
    "observable_id_list = [[\"pS6_tot\"], [\"pEGFR_tot\"], [\"pAkt_tot\"]]\n",
    "\n",
    "\n",
    "plot_without_vis_spec(\n",
    "    petab_problem_fujita.condition_df,\n",
    "    observable_id_list,\n",
    "    \"observable\",\n",
    "    petab_problem_fujita.measurement_df,\n",
    "    plotted_noise=\"provided\",\n",
    ");"
   ]
  },
  {
   "cell_type": "code",
   "execution_count": null,
   "metadata": {},
   "outputs": [],
   "source": [
    "# Plot 2 axes objects, plotting\n",
    "# - in the first window  the observable 'pS6_tot' for all simulation conditions\n",
    "# - in the second window the observable 'pEGFR_tot' for all simulation conditions\n",
    "# - in the third window  the observable 'pAkt_tot' for all simulation conditions\n",
    "# while using the noise values which are saved in the PEtab files\n",
    "\n",
    "observable_id_list = [[\"pS6_tot\"], [\"pEGFR_tot\"]]\n",
    "\n",
    "\n",
    "plot_without_vis_spec(\n",
    "    petab_problem_fujita.condition_df,\n",
    "    observable_id_list,\n",
    "    \"observable\",\n",
    "    petab_problem_fujita.measurement_df,\n",
    "    plotted_noise=\"provided\",\n",
    ");"
   ]
  },
  {
   "cell_type": "markdown",
   "metadata": {},
   "source": [
    "Plot only simulations"
   ]
  },
  {
   "cell_type": "code",
   "execution_count": null,
   "metadata": {},
   "outputs": [],
   "source": [
    "simu_file_Fujita = example_dir_fujita / \"Fujita_simulatedData.tsv\"\n",
    "\n",
    "sim_cond_id_list = [\n",
    "    [\"model1_data1\"],\n",
    "    [\"model1_data2\", \"model1_data3\"],\n",
    "    [\"model1_data4\", \"model1_data5\"],\n",
    "    [\"model1_data6\"],\n",
    "]\n",
    "\n",
    "plot_without_vis_spec(\n",
    "    petab_problem_fujita.condition_df,\n",
    "    sim_cond_id_list,\n",
    "    \"simulation\",\n",
    "    simulations_df=simu_file_Fujita,\n",
    "    plotted_noise=\"provided\",\n",
    ");"
   ]
  },
  {
   "cell_type": "code",
   "execution_count": null,
   "metadata": {},
   "outputs": [],
   "source": [
    "observable_id_list = [[\"pS6_tot\"], [\"pEGFR_tot\"], [\"pAkt_tot\"]]\n",
    "\n",
    "plot_without_vis_spec(\n",
    "    petab_problem_fujita.condition_df,\n",
    "    observable_id_list,\n",
    "    \"observable\",\n",
    "    simulations_df=simu_file_Fujita,\n",
    "    plotted_noise=\"provided\",\n",
    ");"
   ]
  }
 ],
 "metadata": {
  "kernelspec": {
   "display_name": "Python 3",
   "language": "python",
   "name": "python3"
  },
  "language_info": {
   "codemirror_mode": {
    "name": "ipython",
    "version": 3
   },
   "file_extension": ".py",
   "mimetype": "text/x-python",
   "name": "python",
   "nbconvert_exporter": "python",
   "pygments_lexer": "ipython3",
   "version": "3.8.10"
  }
 },
 "nbformat": 4,
 "nbformat_minor": 2
}
