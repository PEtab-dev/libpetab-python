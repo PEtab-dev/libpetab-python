{
 "cells": [
  {
   "cell_type": "markdown",
   "metadata": {},
   "source": [
    "# Visualization of data and simulations"
   ]
  },
  {
   "cell_type": "markdown",
   "metadata": {},
   "source": [
    "In this notebook, we illustrate the visualization functions of petab."
   ]
  },
  {
   "cell_type": "code",
   "execution_count": null,
   "metadata": {
    "pycharm": {
     "is_executing": false
    },
    "scrolled": false
   },
   "outputs": [],
   "source": [
    "from petab.visualize import plot_with_vis_spec, plot_without_vis_spec"
   ]
  },
  {
   "cell_type": "code",
   "execution_count": null,
   "metadata": {
    "pycharm": {
     "is_executing": false
    }
   },
   "outputs": [],
   "source": [
    "folder = \"example_Isensee/\"\n",
    "\n",
    "data_file_path = folder + \"Isensee_measurementData.tsv\"\n",
    "condition_file_path = folder + \"Isensee_experimentalCondition.tsv\"\n",
    "visualization_file_path = folder + \"Isensee_visualizationSpecification.tsv\"\n",
    "simulation_file_path = folder + \"Isensee_simulationData.tsv\""
   ]
  },
  {
   "cell_type": "code",
   "execution_count": null,
   "metadata": {},
   "outputs": [],
   "source": [
    "ax = plot_with_vis_spec(visualization_file_path, condition_file_path,\n",
    "                        data_file_path, simulation_file_path)"
   ]
  },
  {
   "cell_type": "markdown",
   "metadata": {},
   "source": [
    "Now, we want to call the plotting routines without using the simulated data, only the visualization specification file."
   ]
  },
  {
   "cell_type": "code",
   "execution_count": null,
   "metadata": {},
   "outputs": [],
   "source": [
    "ax_without_sim = plot_with_vis_spec(visualization_file_path, condition_file_path, data_file_path)"
   ]
  },
  {
   "cell_type": "markdown",
   "metadata": {},
   "source": [
    "One can also plot only simulated data:"
   ]
  },
  {
   "cell_type": "code",
   "execution_count": null,
   "metadata": {},
   "outputs": [],
   "source": [
    "ax = plot_with_vis_spec(visualization_file_path, condition_file_path,\n",
    "                        simulations_df = simulation_file_path)"
   ]
  },
  {
   "cell_type": "markdown",
   "metadata": {},
   "source": [
    "If both measurements and simulated data are available, they can be visualized using scatter plot:"
   ]
  },
  {
   "cell_type": "code",
   "execution_count": null,
   "metadata": {},
   "outputs": [],
   "source": [
    "visualization_file_scatterplots = folder + \"Isensee_visualizationSpecification_scatterplot.tsv\"\n",
    "ax = plot_with_vis_spec(visualization_file_scatterplots, condition_file_path,\n",
    "                   data_file_path, simulation_file_path)"
   ]
  },
  {
   "cell_type": "markdown",
   "metadata": {},
   "source": [
    "We can also call the plotting routine without the visualization specification file, but by passing a list of lists as `dataset_id_list`. Each sublist corresponds to a plot, and contains the datasetIds which should be plotted.\n",
    "In this simply structured plotting routine, the independent variable will always be time."
   ]
  },
  {
   "cell_type": "code",
   "execution_count": null,
   "metadata": {},
   "outputs": [],
   "source": [
    "datasets = [['JI09_150302_Drg345_343_CycNuc__4_ABnOH_and_ctrl',\n",
    "             'JI09_150302_Drg345_343_CycNuc__4_ABnOH_and_Fsk'],\n",
    "            ['JI09_160201_Drg453-452_CycNuc__ctrl',\n",
    "             'JI09_160201_Drg453-452_CycNuc__Fsk',\n",
    "             'JI09_160201_Drg453-452_CycNuc__Sp8_Br_cAMPS_AM']]\n",
    "ax_without_sim = plot_without_vis_spec(condition_file_path, datasets, 'dataset',\n",
    "                                       data_file_path)"
   ]
  },
  {
   "cell_type": "markdown",
   "metadata": {},
   "source": [
    "Let's look more closely at the plotting routines, if no visualization specification file is provided. If such a file is missing, PEtab needs to know how to group the data points. For this, three options can be used:\n",
    " * dataset_id_list\n",
    " * sim_cond_id_lis\n",
    " * observable_id_list\n",
    "\n",
    "Each of them is a list of lists. Again, each sublist is a plot and its content are either simulation condition IDs or observable IDs or the dataset IDs.\n",
    "\n",
    "We want to illustrate this functionality by using a simpler example, a model published in 2010 by Fujita et al."
   ]
  },
  {
   "cell_type": "code",
   "execution_count": null,
   "metadata": {},
   "outputs": [],
   "source": [
    "data_file_Fujita = \"example_Fujita/Fujita_measurementData.tsv\"\n",
    "condition_file_Fujita = \"example_Fujita/Fujita_experimentalCondition.tsv\"\n",
    "\n",
    "# Plot 4 axes objects, plotting \n",
    "# - in the first window  all observables of the simulation condition 'model1_data1'\n",
    "# - in the second window all observables of the simulation conditions 'model1_data2', 'model1_data3'\n",
    "# - in the third window  all observables of the simulation conditions 'model1_data4', 'model1_data5'\n",
    "# - in the fourth window all observables of the simulation condition 'model1_data6'\n",
    "\n",
    "sim_cond_id_list = [['model1_data1'], ['model1_data2', 'model1_data3'],\n",
    "                    ['model1_data4', 'model1_data5'], ['model1_data6']]\n",
    "\n",
    "ax = plot_without_vis_spec(condition_file_Fujita, sim_cond_id_list,\n",
    "                           'simulation', data_file_Fujita,\n",
    "                           plotted_noise='provided')"
   ]
  },
  {
   "cell_type": "code",
   "execution_count": null,
   "metadata": {},
   "outputs": [],
   "source": [
    "# Plot 3 axes objects, plotting\n",
    "# - in the first window  the observable 'pS6_tot' for all simulation conditions\n",
    "# - in the second window the observable 'pEGFR_tot' for all simulation conditions\n",
    "# - in the third window  the observable 'pAkt_tot' for all simulation conditions\n",
    "\n",
    "observable_id_list = [['pS6_tot'], ['pEGFR_tot'], ['pAkt_tot']]\n",
    "\n",
    "\n",
    "ax = plot_without_vis_spec(condition_file_Fujita, observable_id_list,\n",
    "                           'observable', data_file_Fujita,\n",
    "                           plotted_noise='provided')"
   ]
  },
  {
   "cell_type": "code",
   "execution_count": null,
   "metadata": {},
   "outputs": [],
   "source": [
    "# Plot 2 axes objects, plotting\n",
    "# - in the first window  the observable 'pS6_tot' for all simulation conditions\n",
    "# - in the second window the observable 'pEGFR_tot' for all simulation conditions\n",
    "# - in the third window  the observable 'pAkt_tot' for all simulation conditions\n",
    "# while using the noise values which are saved in the PEtab files\n",
    "\n",
    "observable_id_list = [['pS6_tot'], ['pEGFR_tot']]\n",
    "\n",
    "\n",
    "ax = plot_without_vis_spec(condition_file_Fujita, observable_id_list,\n",
    "                           'observable', data_file_Fujita,\n",
    "                           plotted_noise='provided')"
   ]
  },
  {
   "cell_type": "markdown",
   "metadata": {},
   "source": [
    "Plot only simulations"
   ]
  },
  {
   "cell_type": "code",
   "execution_count": null,
   "metadata": {},
   "outputs": [],
   "source": [
    "simu_file_Fujita = \"example_Fujita/Fujita_simulatedData.tsv\"\n",
    "\n",
    "sim_cond_id_list = [['model1_data1'], ['model1_data2', 'model1_data3'],\n",
    "                    ['model1_data4', 'model1_data5'], ['model1_data6']]\n",
    "\n",
    "ax = plot_without_vis_spec(condition_file_Fujita, sim_cond_id_list,\n",
    "                           'simulation', simulations_df=simu_file_Fujita,\n",
    "                           plotted_noise='provided')"
   ]
  },
  {
   "cell_type": "code",
   "execution_count": null,
   "metadata": {},
   "outputs": [],
   "source": [
    "observable_id_list = [['pS6_tot'], ['pEGFR_tot'], ['pAkt_tot']]\n",
    "\n",
    "ax = plot_without_vis_spec(condition_file_Fujita, observable_id_list,\n",
    "                           'observable', simulations_df=simu_file_Fujita,\n",
    "                           plotted_noise='provided')"
   ]
  }
 ],
 "metadata": {
  "kernelspec": {
   "display_name": "Python 3",
   "language": "python",
   "name": "python3"
  },
  "language_info": {
   "codemirror_mode": {
    "name": "ipython",
    "version": 3
   },
   "file_extension": ".py",
   "mimetype": "text/x-python",
   "name": "python",
   "nbconvert_exporter": "python",
   "pygments_lexer": "ipython3",
   "version": "3.8.10"
  }
 },
 "nbformat": 4,
 "nbformat_minor": 2
}
