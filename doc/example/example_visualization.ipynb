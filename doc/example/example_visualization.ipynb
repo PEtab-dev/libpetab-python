{
 "cells": [
  {
   "cell_type": "markdown",
   "source": [
    "# Visualization of data and simulations\n",
    "\n",
    "In this notebook, we illustrate the visualization functions of the petab library to visualize measurements or simulations.\n",
    "\n",
    "Some basic visualizations can be generated from a PEtab problem directly, without the need for a visualization specification file. This is illustrated in the first part of this notebook. For more advanced visualizations, a visualization specification file is required. This is illustrated in the second part of this notebook.\n",
    "\n",
    "For the following demonstrations, we will use two example problems obtained from the [Benchmark collection](https://github.com/Benchmarking-Initiative/Benchmark-Models-PEtab/), [Fujita_SciSignal2010](https://github.com/Benchmarking-Initiative/Benchmark-Models-PEtab/tree/master/Benchmark-Models/Fujita_SciSignal2010) and [Isensee_JCB2018](https://github.com/Benchmarking-Initiative/Benchmark-Models-PEtab/tree/master/Benchmark-Models/Isensee_JCB2018). Their specifics don't matter for the purpose of this notebook—we just need some PEtab problems to work with."
   ],
   "metadata": {
    "collapsed": false
   }
  },
  {
   "cell_type": "code",
   "execution_count": null,
   "outputs": [],
   "source": [
    "from pathlib import Path\n",
    "\n",
    "import matplotlib.pyplot as plt\n",
    "\n",
    "import petab\n",
    "from petab import Problem\n",
    "from petab.visualize import plot_problem\n",
    "\n",
    "example_dir_fujita = Path(\"example_Fujita\")\n",
    "petab_yaml_fujita = example_dir_fujita / \"Fujita.yaml\"\n",
    "example_dir_isensee = Path(\"example_Isensee\")\n",
    "petab_yaml_isensee = example_dir_isensee / \"Isensee_no_vis.yaml\"\n",
    "petab_yaml_isensee_vis = example_dir_isensee / \"Isensee.yaml\"\n",
    "\n",
    "# we change some settings to make the plots better readable\n",
    "petab.visualize.plotting.DEFAULT_FIGSIZE[:] = (10, 8)\n",
    "plt.rcParams[\"figure.figsize\"] = petab.visualize.plotting.DEFAULT_FIGSIZE\n",
    "plt.rcParams[\"font.size\"] = 12\n",
    "plt.rcParams[\"figure.dpi\"] = 150\n",
    "plt.rcParams[\"legend.fontsize\"] = 10"
   ],
   "metadata": {
    "collapsed": false
   }
  },
  {
   "cell_type": "markdown",
   "source": [
    "## Visualization without visualization specification file"
   ],
   "metadata": {
    "collapsed": false
   }
  },
  {
   "cell_type": "markdown",
   "source": [
    "### Plotting measurements\n",
    "\n",
    "For the most basic visualization, we can use the [plot_problem()](https://petab.readthedocs.io/projects/libpetab-python/en/latest/build/_autosummary/petab.visualize.html#petab.visualize.plot_problem) function."
   ],
   "metadata": {
    "collapsed": false
   }
  },
  {
   "cell_type": "code",
   "execution_count": null,
   "outputs": [],
   "source": [
    "# load PEtab problem\n",
    "petab_problem = Problem.from_yaml(petab_yaml_fujita)\n",
    "\n",
    "# plot measurements\n",
    "petab.visualize.plot_problem(petab_problem);"
   ],
   "metadata": {
    "collapsed": false
   }
  },
  {
   "cell_type": "markdown",
   "source": [
    "As nothing was specified regarding what should be plotted, the defaults were used. Namely, it was assumed that measurements are time series data, and they were grouped by observables.\n",
    "\n",
    "### Subplots / subsetting the data\n",
    "\n",
    "Measurements or simulations can be grouped by observables, simulation conditions, or datasetIds with the `plot_problem()` function. This can be specified by setting the value of `group_by` parameter to `'observable'` (default), `'simulation'`, or `'dataset'` and by providing corresponding ids in `grouping_list`, which is a list of lists. Each sublist specifies a separate plot and its elements are either simulation condition IDs or observable IDs or the dataset IDs.\n",
    "\n",
    "#### By observable\n",
    "\n",
    "We can specify how many subplots there should be and what should be plotted on each of them. It can easily be done by providing `grouping_list`, which by default specifies, which observables should be plotted on a particular plot. The value of `grouping_list` should be a list of lists, each sublist corresponds to a separate plot."
   ],
   "metadata": {
    "collapsed": false
   }
  },
  {
   "cell_type": "code",
   "execution_count": null,
   "outputs": [],
   "source": [
    "petab.visualize.plot_problem(\n",
    "    petab_problem,\n",
    "    grouping_list=[[\"pEGFR_tot\"], [\"pAkt_tot\", \"pS6_tot\"]]\n",
    "    group_by=\"observable\",\n",
    ")\n",
    "plt.gcf().set_size_inches(10, 4)"
   ],
   "metadata": {
    "collapsed": false
   }
  },
  {
   "cell_type": "markdown",
   "source": [
    "#### By simulation condition\n",
    "\n",
    "Another option is to specify which simulation conditions should be plotted:"
   ],
   "metadata": {
    "collapsed": false
   }
  },
  {
   "cell_type": "code",
   "execution_count": null,
   "outputs": [],
   "source": [
    "petab.visualize.plot_problem(\n",
    "    petab_problem,\n",
    "    grouping_list=[\n",
    "        [\"model1_data1\"],\n",
    "        [\"model1_data2\", \"model1_data3\"],\n",
    "        [\"model1_data4\", \"model1_data5\", \"model1_data6\"],\n",
    "    ],\n",
    "    group_by=\"simulation\",\n",
    ");"
   ],
   "metadata": {
    "collapsed": false
   }
  },
  {
   "cell_type": "markdown",
   "source": [
    "#### By datasetId\n",
    "\n",
    "Finally, measurements can be grouped by `datasetId`s as specified in the measurements table, by passing lists of `datasetId`s. Each sublist corresponds to a subplot:"
   ],
   "metadata": {
    "collapsed": false
   }
  },
  {
   "cell_type": "code",
   "execution_count": null,
   "outputs": [],
   "source": [
    "petab.visualize.plot_problem(\n",
    "    petab_problem,\n",
    "    grouping_list=[\n",
    "        [\n",
    "            \"model1_data1_pEGFR_tot\",\n",
    "            \"model1_data2_pEGFR_tot\",\n",
    "            \"model1_data3_pEGFR_tot\",\n",
    "            \"model1_data4_pEGFR_tot\",\n",
    "            \"model1_data5_pEGFR_tot\",\n",
    "            \"model1_data6_pEGFR_tot\",\n",
    "        ],\n",
    "        [\n",
    "            \"model1_data1_pAkt_tot\",\n",
    "            \"model1_data2_pAkt_tot\",\n",
    "            \"model1_data3_pAkt_tot\",\n",
    "            \"model1_data4_pAkt_tot\",\n",
    "            \"model1_data5_pAkt_tot\",\n",
    "            \"model1_data6_pAkt_tot\",\n",
    "        ],\n",
    "        [\n",
    "            \"model1_data1_pS6_tot\",\n",
    "            \"model1_data2_pS6_tot\",\n",
    "            \"model1_data3_pS6_tot\",\n",
    "            \"model1_data4_pS6_tot\",\n",
    "            \"model1_data5_pS6_tot\",\n",
    "            \"model1_data6_pS6_tot\",\n",
    "        ],\n",
    "    ],\n",
    "    group_by=\"dataset\",\n",
    ");"
   ],
   "metadata": {
    "collapsed": false
   }
  },
  {
   "cell_type": "markdown",
   "source": [
    "### Plotting simulations\n",
    "\n",
    "We can also plot simulations together with the meausurements, for example, to judge the model fit. For this, we need to provide a simulation file as `simulations_df`. A simulation file has the same format as the measurement file, but instead of the `measurement` column, it contains simulation outputs in the `simulation` column. The simulations are plotted as solid lines, while the measurements are plotted as dashed lines:"
   ],
   "metadata": {
    "collapsed": false
   }
  },
  {
   "cell_type": "code",
   "execution_count": null,
   "outputs": [],
   "source": [
    "simu_file_Fujita = example_dir_fujita / \"Fujita_simulatedData.tsv\"\n",
    "\n",
    "sim_cond_id_list = [\n",
    "    [\"model1_data1\"],\n",
    "    [\"model1_data6\"],\n",
    "]\n",
    "petab_problem = Problem.from_yaml(petab_yaml_fujita)\n",
    "plot_problem(\n",
    "    petab_problem,\n",
    "    simulations_df=simu_file_Fujita,\n",
    "    grouping_list=sim_cond_id_list,\n",
    "    group_by=\"simulation\",\n",
    "    plotted_noise=\"provided\",\n",
    ")\n",
    "plt.gcf().set_size_inches(10, 4)"
   ],
   "metadata": {
    "collapsed": false
   }
  },
  {
   "cell_type": "markdown",
   "source": [
    "It is also possible to plot only the simulations without the measurements by setting `petab_problem.measurement_df = None`."
   ],
   "metadata": {
    "collapsed": false
   }
  },
  {
   "cell_type": "markdown",
   "source": [
    "## Visualization with a visualization specification file\n",
    "\n",
    "As described in the [PEtab documentation](https://petab.readthedocs.io/en/latest/documentation_data_format.html), the visualization specification file is a tab-separated value file specifying which data to plot in which way. In the following, we will build up a visualization specification file step by step."
   ],
   "metadata": {
    "collapsed": false
   }
  },
  {
   "cell_type": "markdown",
   "source": [
    "Without a visualization file, the independent variable defaults to time, and each observable is plotted in a separate subplot:"
   ],
   "metadata": {
    "collapsed": false
   }
  },
  {
   "cell_type": "code",
   "execution_count": null,
   "outputs": [],
   "source": [
    "petab_problem = Problem.from_yaml(petab_yaml_fujita)\n",
    "petab.visualize.plot_problem(petab_problem);"
   ],
   "metadata": {
    "collapsed": false
   }
  },
  {
   "cell_type": "markdown",
   "source": [
    "First, let us create a visualization specification file with only mandatory columns. In fact, there is only one mandatory column: `plotId`.\n",
    "The most basic visualization file looks like this:"
   ],
   "metadata": {
    "collapsed": false
   }
  },
  {
   "cell_type": "code",
   "execution_count": null,
   "outputs": [],
   "source": [
    "petab_problem.visualization_df = petab.get_visualization_df(\n",
    "    example_dir_fujita / \"visuSpecs\" / \"Fujita_visuSpec_mandatory.tsv\"\n",
    ")\n",
    "petab_problem.visualization_df"
   ],
   "metadata": {
    "collapsed": false
   }
  },
  {
   "cell_type": "markdown",
   "source": [
    "This way, all data will be shown in a single plot, taking time as independent variable. This is not very appealing yet, but we will improve it step by step."
   ],
   "metadata": {
    "collapsed": false
   }
  },
  {
   "cell_type": "code",
   "execution_count": null,
   "outputs": [],
   "source": [
    "petab.visualize.plot_problem(petab_problem)\n",
    "plt.gcf().set_size_inches(10, 4)"
   ],
   "metadata": {
    "collapsed": false
   }
  },
  {
   "cell_type": "markdown",
   "source": [
    "### Logarithmic scale and offset\n",
    "\n",
    "Let's change some settings. For example, we can change the scale of the y-axis to logarithmic and apply an offset for the independent variable:"
   ],
   "metadata": {
    "collapsed": false
   }
  },
  {
   "cell_type": "code",
   "execution_count": null,
   "outputs": [],
   "source": [
    "petab_problem.visualization_df = petab.get_visualization_df(\n",
    "    example_dir_fujita / \"visuSpecs\" / \"Fujita_visuSpec_1.tsv\"\n",
    ")\n",
    "petab_problem.visualization_df"
   ],
   "metadata": {
    "collapsed": false
   }
  },
  {
   "cell_type": "code",
   "execution_count": null,
   "outputs": [],
   "source": [
    "petab.visualize.plot_problem(petab_problem)\n",
    "plt.gcf().set_size_inches(10, 4)"
   ],
   "metadata": {
    "collapsed": false
   }
  },
  {
   "cell_type": "markdown",
   "source": [
    "### Subplots by observable\n",
    "\n",
    "Next, to make the plot less crowded, we group the measurements by observables by adding two subplots and specifying which observables to plot on each via the `yValues` column:"
   ],
   "metadata": {
    "collapsed": false
   }
  },
  {
   "cell_type": "code",
   "execution_count": null,
   "outputs": [],
   "source": [
    "petab_problem.visualization_df = petab.get_visualization_df(\n",
    "    example_dir_fujita / \"visuSpecs\" / \"Fujita_visuSpec_2.tsv\"\n",
    ")\n",
    "petab_problem.visualization_df"
   ],
   "metadata": {
    "collapsed": false
   }
  },
  {
   "cell_type": "code",
   "execution_count": null,
   "outputs": [],
   "source": [
    "petab.visualize.plot_problem(petab_problem)\n",
    "plt.gcf().set_size_inches(10, 4)"
   ],
   "metadata": {
    "collapsed": false
   }
  },
  {
   "cell_type": "markdown",
   "source": [
    "### Subplots by dataset\n",
    "\n",
    "We can also plot different datasets (as specified by the optional `datasetId` column in the measurement table) in separate subplots:"
   ],
   "metadata": {
    "collapsed": false
   }
  },
  {
   "cell_type": "code",
   "execution_count": null,
   "outputs": [],
   "source": [
    "petab_problem.visualization_df = petab.get_visualization_df(\n",
    "    example_dir_fujita\n",
    "    / \"visuSpecs\"\n",
    "    / \"Fujita_visuSpec_individual_datasets.tsv\"\n",
    ")\n",
    "petab_problem.visualization_df"
   ],
   "metadata": {
    "collapsed": false
   }
  },
  {
   "cell_type": "code",
   "execution_count": null,
   "outputs": [],
   "source": [
    "petab.visualize.plot_problem(petab_problem)\n",
    "plt.gcf().set_size_inches(10, 4)"
   ],
   "metadata": {
    "collapsed": false
   }
  },
  {
   "cell_type": "markdown",
   "source": [
    "### Legend entries\n",
    "\n",
    "So far, the legend entries don't look very nice. We can change them by specifying the desired labels in the `legendEntries` column:"
   ],
   "metadata": {
    "collapsed": false
   }
  },
  {
   "cell_type": "code",
   "execution_count": null,
   "outputs": [],
   "source": [
    "petab_problem.visualization_df = petab.get_visualization_df(\n",
    "    example_dir_fujita / \"visuSpecs\" / \"Fujita_visuSpec_datasetIds.tsv\"\n",
    ")\n",
    "petab_problem.visualization_df"
   ],
   "metadata": {
    "collapsed": false
   }
  },
  {
   "cell_type": "code",
   "execution_count": null,
   "outputs": [],
   "source": [
    "petab.visualize.plot_problem(petab_problem)\n",
    "plt.gcf().set_size_inches(10, 6)"
   ],
   "metadata": {
    "collapsed": false
   }
  },
  {
   "cell_type": "markdown",
   "source": [
    "### Plotting individual replicates\n",
    "\n",
    "If the measurement file contains replicates, the replicates can also be visualized individually. Below you can see the same measurement data plotted as mean and standard deviations (left) and as replicates (right):"
   ],
   "metadata": {
    "collapsed": false
   }
  },
  {
   "cell_type": "code",
   "execution_count": null,
   "outputs": [],
   "source": [
    "petab_problem = Problem.from_yaml(petab_yaml_isensee)\n",
    "petab_problem.visualization_df = petab.get_visualization_df(\n",
    "    example_dir_isensee / \"Isensee_visualizationSpecification_replicates.tsv\"\n",
    ")\n",
    "plot_problem(\n",
    "    petab_problem,\n",
    "    simulations_df=example_dir_isensee / \"Isensee_simulationData.tsv\",\n",
    ")\n",
    "plt.gcf().set_size_inches(16, 9)"
   ],
   "metadata": {
    "collapsed": false
   }
  },
  {
   "cell_type": "markdown",
   "source": [
    "### Scatter plots\n",
    "\n",
    "If both measurements and simulated data are available, they can be visualized using scatter plot:"
   ],
   "metadata": {
    "collapsed": false
   }
  },
  {
   "cell_type": "code",
   "execution_count": null,
   "outputs": [],
   "source": [
    "petab_problem = Problem.from_yaml(petab_yaml_isensee)\n",
    "petab_problem.visualization_df = petab.get_visualization_df(\n",
    "    example_dir_isensee / \"Isensee_visualizationSpecification_scatterplot.tsv\"\n",
    ")\n",
    "plot_problem(\n",
    "    petab_problem,\n",
    "    simulations_df=example_dir_isensee / \"Isensee_simulationData.tsv\",\n",
    ")\n",
    "plt.gcf().set_size_inches(10, 4)"
   ],
   "metadata": {
    "collapsed": false
   }
  },
  {
   "cell_type": "markdown",
   "source": [
    "### Further examples\n",
    "\n",
    "Here are some further visualization examples, including barplots:"
   ],
   "metadata": {
    "collapsed": false
   }
  },
  {
   "cell_type": "code",
   "execution_count": null,
   "outputs": [],
   "source": [
    "petab_problem = petab.Problem.from_yaml(petab_yaml_isensee_vis)\n",
    "plot_problem(\n",
    "    petab_problem,\n",
    "    simulations_df=example_dir_isensee / \"Isensee_simulationData.tsv\",\n",
    ")\n",
    "plt.gcf().set_size_inches(20, 12)"
   ],
   "metadata": {
    "collapsed": false
   }
  },
  {
   "cell_type": "markdown",
   "source": [
    "Also with a visualization file, there is the option to plot only simulations, only measurements, or both, as was illustrated above in the examples without a visualization file.\n",
    "\n",
    "Refer to the [PEtab documentation](https://petab.readthedocs.io/en/latest/documentation_data_format.html) for descriptions of all possible settings. If you have any questions or encounter some problems, please create a GitHub [issue](https://github.com/PEtab-dev/libpetab-python/issues). We will be happy to help!"
   ],
   "metadata": {
    "collapsed": false
   }
  },
  {
   "cell_type": "code",
   "execution_count": null,
   "outputs": [],
   "source": [],
   "metadata": {
    "collapsed": false
   }
  }
 ],
 "metadata": {
  "kernelspec": {
   "display_name": "Python 3",
   "language": "python",
   "name": "python3"
  },
  "language_info": {
   "codemirror_mode": {
    "name": "ipython",
    "version": 3
   },
   "file_extension": ".py",
   "mimetype": "text/x-python",
   "name": "python",
   "nbconvert_exporter": "python",
   "pygments_lexer": "ipython3",
   "version": "3.8.10"
  },
  "pycharm": {
   "stem_cell": {
    "cell_type": "raw",
    "metadata": {
     "collapsed": false
    },
    "source": []
   }
  }
 },
 "nbformat": 4,
 "nbformat_minor": 2
}
