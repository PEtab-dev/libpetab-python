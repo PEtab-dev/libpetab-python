{
 "cells": [
  {
   "cell_type": "markdown",
   "id": "372289411a2aa7b3",
   "metadata": {},
   "source": [
    "# Prior distributions in PEtab\n",
    "\n",
    "This notebook gives a brief overview of the prior distributions in PEtab and how they are represented in the PEtab library.\n",
    "\n",
    "Prior distributions are used to specify the prior knowledge about the parameters.\n",
    "Parameter priors are specified in the parameter table. A prior is defined by its type and its parameters.\n",
    "Each prior type has a specific set of parameters. For example, the normal distribution has two parameters: the mean and the standard deviation.\n",
    "\n",
    "There are two types of priors in PEtab - objective priors and initialization priors:\n",
    "\n",
    "* *Objective priors* are used to specify the prior knowledge about the parameters that are to be estimated. They will enter the objective function of the optimization problem. They are specified in the `objectivePriorType` and `objectivePriorParameters` columns of the parameter table.\n",
    "* *Initialization priors* can be used as a hint for the optimization algorithm. They will not enter the objective function. They are specified in the `initializationPriorType` and `initializationPriorParameters` columns of the parameter table.\n",
    "\n",
    "\n"
   ]
  },
  {
   "cell_type": "code",
   "execution_count": null,
   "id": "initial_id",
   "metadata": {
    "collapsed": true
   },
   "outputs": [],
   "source": [
    "import matplotlib.pyplot as plt\n",
    "import numpy as np\n",
    "import seaborn as sns\n",
    "\n",
    "from petab.v1.C import *\n",
    "from petab.v1.parameters import unscale\n",
    "from petab.v1.priors import Prior\n",
    "\n",
    "sns.set_style(None)\n",
    "\n",
    "\n",
    "def plot(prior: Prior):\n",
    "    \"\"\"Visualize a distribution.\"\"\"\n",
    "    fig, (ax1, ax2) = plt.subplots(1, 2, figsize=(12, 4))\n",
    "    sample = prior.sample(20_000, x_scaled=True)\n",
    "\n",
    "    fig.suptitle(str(prior))\n",
    "\n",
    "    plot_single(prior, ax=ax1, sample=sample, scaled=False)\n",
    "    plot_single(prior, ax=ax2, sample=sample, scaled=True)\n",
    "    plt.tight_layout()\n",
    "    plt.show()\n",
    "\n",
    "\n",
    "def plot_single(\n",
    "    prior: Prior, scaled: bool = False, ax=None, sample: np.array = None\n",
    "):\n",
    "    fig = None\n",
    "    if ax is None:\n",
    "        fig, ax = plt.subplots()\n",
    "\n",
    "    if sample is None:\n",
    "        sample = prior.sample(20_000)\n",
    "\n",
    "    # assuming scaled sample\n",
    "    if not scaled:\n",
    "        sample = unscale(sample, prior.transformation)\n",
    "        bounds = prior.bounds\n",
    "    else:\n",
    "        bounds = (\n",
    "            (prior.lb_scaled, prior.ub_scaled)\n",
    "            if prior.bounds is not None\n",
    "            else None\n",
    "        )\n",
    "\n",
    "    # plot pdf\n",
    "    xmin = min(\n",
    "        sample.min(), bounds[0] if prior.bounds is not None else sample.min()\n",
    "    )\n",
    "    xmax = max(\n",
    "        sample.max(), bounds[1] if prior.bounds is not None else sample.max()\n",
    "    )\n",
    "    padding = 0.1 * (xmax - xmin)\n",
    "    xmin -= padding\n",
    "    xmax += padding\n",
    "    x = np.linspace(xmin, xmax, 500)\n",
    "    y = prior.pdf(x, x_scaled=scaled, rescale=scaled)\n",
    "    ax.plot(x, y, color=\"red\", label=\"pdf\")\n",
    "\n",
    "    sns.histplot(sample, stat=\"density\", ax=ax, label=\"sample\")\n",
    "\n",
    "    # plot bounds\n",
    "    if prior.bounds is not None:\n",
    "        for bound in bounds:\n",
    "            if bound is not None and np.isfinite(bound):\n",
    "                ax.axvline(bound, color=\"black\", linestyle=\"--\", label=\"bound\")\n",
    "\n",
    "    if fig is not None:\n",
    "        ax.set_title(str(prior))\n",
    "\n",
    "    if scaled:\n",
    "        ax.set_xlabel(\n",
    "            f\"Parameter value on parameter scale ({prior.transformation})\"\n",
    "        )\n",
    "        ax.set_ylabel(\"Rescaled density\")\n",
    "    else:\n",
    "        ax.set_xlabel(\"Parameter value\")\n",
    "\n",
    "    ax.grid(False)\n",
    "    handles, labels = ax.get_legend_handles_labels()\n",
    "    unique_labels = dict(zip(labels, handles, strict=False))\n",
    "    ax.legend(unique_labels.values(), unique_labels.keys())\n",
    "\n",
    "    if ax is None:\n",
    "        plt.show()"
   ]
  },
  {
   "cell_type": "markdown",
   "id": "db36a4a93622ccb8",
   "metadata": {},
   "source": "The basic distributions are the uniform, normal, Laplace, log-normal, and log-laplace distributions:\n"
  },
  {
   "cell_type": "code",
   "execution_count": null,
   "id": "4f09e50a3db06d9f",
   "metadata": {},
   "outputs": [],
   "source": [
    "plot_single(Prior(UNIFORM, (0, 1)))\n",
    "plot_single(Prior(NORMAL, (0, 1)))\n",
    "plot_single(Prior(LAPLACE, (0, 1)))\n",
    "plot_single(Prior(LOG_NORMAL, (0, 1)))\n",
    "plot_single(Prior(LOG_LAPLACE, (1, 0.5)))"
   ]
  },
  {
   "cell_type": "markdown",
   "id": "dab4b2d1e0f312d8",
   "metadata": {},
   "source": "If a parameter scale is specified (`parameterScale=lin|log|log10`), the distribution parameters are used as is without applying the `parameterScale` to them. The exception are the `parameterScale*`-type distributions, as explained below. In the context of PEtab prior distributions, `parameterScale` will only be used for the start point sampling for optimization, where the sample will be transformed accordingly. This is demonstrated below. The left plot always shows the prior distribution for unscaled parameter values, and the right plot shows the prior distribution for scaled parameter values. Note that in the objective function, the prior is always on the unscaled parameters.\n"
  },
  {
   "cell_type": "code",
   "execution_count": null,
   "id": "f6192c226f179ef9",
   "metadata": {},
   "outputs": [],
   "source": [
    "plot(Prior(NORMAL, (10, 2), transformation=LIN))\n",
    "plot(Prior(NORMAL, (10, 2), transformation=LOG))\n",
    "\n",
    "# Note that the log-normal distribution is different\n",
    "#  from a log-transformed normal distribution:\n",
    "plot(Prior(LOG_NORMAL, (10, 2), transformation=LIN))"
   ]
  },
  {
   "cell_type": "markdown",
   "id": "4281ed48859e6431",
   "metadata": {},
   "source": "On the log-transformed parameter scale, `Log*` and `parameterScale*` distributions are equivalent:"
  },
  {
   "cell_type": "code",
   "execution_count": null,
   "id": "34c95268e8921070",
   "metadata": {},
   "outputs": [],
   "source": [
    "plot(Prior(LOG_NORMAL, (10, 2), transformation=LOG))\n",
    "plot(Prior(PARAMETER_SCALE_NORMAL, (10, 2)))"
   ]
  },
  {
   "cell_type": "markdown",
   "id": "263c9fd31156a4d5",
   "metadata": {},
   "source": "Prior distributions can also be defined on the scaled parameters (i.e., transformed according to `parameterScale`) by using the types `parameterScaleUniform`, `parameterScaleNormal` or `parameterScaleLaplace`. In these cases, the distribution parameters are interpreted on the transformed parameter scale (but not the parameter bounds, see below). This implies, that for `parameterScale=lin`, there is no difference between `parameterScaleUniform` and `uniform`."
  },
  {
   "cell_type": "code",
   "execution_count": null,
   "id": "5ca940bc24312fc6",
   "metadata": {},
   "outputs": [],
   "source": [
    "# different, because transformation!=LIN\n",
    "plot(Prior(UNIFORM, (0.01, 2), transformation=LOG10))\n",
    "plot(Prior(PARAMETER_SCALE_UNIFORM, (0.01, 2), transformation=LOG10))\n",
    "\n",
    "# same, because transformation=LIN\n",
    "plot(Prior(UNIFORM, (0.01, 2), transformation=LIN))\n",
    "plot(Prior(PARAMETER_SCALE_UNIFORM, (0.01, 2), transformation=LIN))"
   ]
  },
  {
   "cell_type": "markdown",
   "id": "b1a8b17d765db826",
   "metadata": {},
   "source": "The given distributions are truncated at the bounds defined in the parameter table:"
  },
  {
   "cell_type": "code",
   "execution_count": null,
   "id": "4ac42b1eed759bdd",
   "metadata": {},
   "outputs": [],
   "source": [
    "plot(Prior(NORMAL, (0, 1), bounds=(-2, 2)))\n",
    "plot(Prior(UNIFORM, (0, 1), bounds=(0.1, 0.9)))\n",
    "plot(Prior(UNIFORM, (1e-8, 1), bounds=(0.1, 0.9), transformation=LOG10))\n",
    "plot(Prior(LAPLACE, (0, 1), bounds=(-0.5, 0.5)))\n",
    "plot(\n",
    "    Prior(\n",
    "        PARAMETER_SCALE_UNIFORM,\n",
    "        (-3, 1),\n",
    "        bounds=(1e-2, 1),\n",
    "        transformation=LOG10,\n",
    "    )\n",
    ")"
   ]
  },
  {
   "cell_type": "markdown",
   "id": "45ffce1341483f24",
   "metadata": {},
   "source": "Further distribution examples:"
  },
  {
   "cell_type": "code",
   "execution_count": null,
   "id": "581e1ac431860419",
   "metadata": {},
   "outputs": [],
   "source": [
    "plot(Prior(NORMAL, (10, 1), bounds=(6, 11), transformation=\"log10\"))\n",
    "plot(\n",
    "    Prior(\n",
    "        PARAMETER_SCALE_NORMAL,\n",
    "        (2, 1),\n",
    "        bounds=(10**0, 10**3),\n",
    "        transformation=\"log10\",\n",
    "    )\n",
    ")\n",
    "plot(Prior(LAPLACE, (10, 2), bounds=(6, 14)))\n",
    "plot(Prior(LOG_LAPLACE, (1, 0.5), bounds=(0.5, 8)))\n",
    "plot(Prior(LOG_NORMAL, (2, 1), bounds=(0.5, 8)))"
   ]
  }
 ],
 "metadata": {
  "kernelspec": {
   "display_name": "Python 3",
   "language": "python",
   "name": "python3"
  },
  "language_info": {
   "codemirror_mode": {
    "name": "ipython",
    "version": 2
   },
   "file_extension": ".py",
   "mimetype": "text/x-python",
   "name": "python",
   "nbconvert_exporter": "python",
   "pygments_lexer": "ipython2",
   "version": "2.7.6"
  }
 },
 "nbformat": 4,
 "nbformat_minor": 5
}
