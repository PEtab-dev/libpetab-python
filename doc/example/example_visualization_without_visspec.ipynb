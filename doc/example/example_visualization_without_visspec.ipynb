{
 "cells": [
  {
   "cell_type": "markdown",
   "metadata": {},
   "source": [
    "# Visualization without visualization specification file"
   ]
  },
  {
   "cell_type": "markdown",
   "metadata": {},
   "source": [
    "In this example let us consider some visualisation possibilities of PEtab. In particluar, let us focus on the options that do not require detailed specifications. If you want to have more control over what will be plotted, refer to this [example](https://github.com/PEtab-dev/PEtab/blob/pl_visualization/doc/example/example_visualization_with_visspec.ipynb), describing usage of the visualization table.\n",
    "\n",
    "Let's plot measurements corresponding to the ones of the models from the Benchmark collection [Fujita_SciSignal2010](https://github.com/Benchmarking-Initiative/Benchmark-Models-PEtab/tree/master/Benchmark-Models/Fujita_SciSignal2010)."
   ]
  },
  {
   "cell_type": "code",
   "execution_count": null,
   "metadata": {},
   "outputs": [],
   "source": [
    "import petab\n",
    "from petab.visualize import plot_data_and_simulation\n",
    "\n",
    "folder = \"example_Fujita/\"\n",
    "data_file_path = folder + \"Fujita_measurementData.tsv\"\n",
    "condition_file_path = folder + \"Fujita_experimentalCondition.tsv\"\n",
    "observables_file_path = folder + \"Fujita_observables.tsv\""
   ]
  },
  {
   "cell_type": "markdown",
   "metadata": {},
   "source": [
    "## Plotting PEtab problem directly\n",
    "For plotting a PEtab problem directly you can use the `plot_problem()` function."
   ]
  },
  {
   "cell_type": "code",
   "execution_count": null,
   "metadata": {},
   "outputs": [],
   "source": [
    "# load PEtab problem from files\n",
    "pp = petab.Problem.from_files(measurement_file=data_file_path,\n",
    "                              condition_file=condition_file_path,\n",
    "                              observable_files=observables_file_path)\n",
    "# Alternatively, from yaml file\n",
    "# pp = petab.Problem.from_yaml(folder + \"Fujita.yaml\")\n",
    "\n",
    "# plot measurements\n",
    "ax = petab.visualize.plot_problem(petab_problem=pp)"
   ]
  },
  {
   "cell_type": "markdown",
   "metadata": {},
   "source": [
    "As nothing was specified regarding what should be plotted, the defaults were used. Namely, it was assumed that measurements are time series data, and they were grouped by observables.\n",
    "\n",
    "You can specify how many subplot there should be and what should be plotted on each of them. It can easily be done by providing `grouping_list`, which by default specifies, which observables should be plotted on a paricular plot. The value of `grouping_list` should be a list of lists, each sublist corresponds to a separate plot."
   ]
  },
  {
   "cell_type": "code",
   "execution_count": null,
   "metadata": {},
   "outputs": [],
   "source": [
    "ax = petab.visualize.plot_problem(petab_problem=pp, \n",
    "                                  grouping_list = [['pEGFR_tot'], ['pAkt_tot', 'pS6_tot']])"
   ]
  },
  {
   "cell_type": "markdown",
   "metadata": {},
   "source": [
    "Another option is to specify which simulation conditions should be plotted."
   ]
  },
  {
   "cell_type": "code",
   "execution_count": null,
   "metadata": {},
   "outputs": [],
   "source": [
    "ax = petab.visualize.plot_problem(petab_problem=pp, \n",
    "                                  grouping_list = [['model1_data1'], \n",
    "                                                   ['model1_data2', 'model1_data3'], \n",
    "                                                   ['model1_data4', 'model1_data5', 'model1_data6']],\n",
    "                                  group_by='simulation')"
   ]
  },
  {
   "cell_type": "markdown",
   "metadata": {},
   "source": [
    "Finally, measurements can be grouped by datasetIds. "
   ]
  },
  {
   "cell_type": "code",
   "execution_count": null,
   "metadata": {},
   "outputs": [],
   "source": [
    "ax = petab.visualize.plot_problem(petab_problem=pp, \n",
    "                                        grouping_list = [['model1_data1_pEGFR_tot', \n",
    "                                                          'model1_data2_pEGFR_tot', \n",
    "                                                          'model1_data3_pEGFR_tot',\n",
    "                                                          'model1_data4_pEGFR_tot', \n",
    "                                                          'model1_data5_pEGFR_tot', \n",
    "                                                          'model1_data6_pEGFR_tot'], \n",
    "                                                         ['model1_data1_pAkt_tot', \n",
    "                                                          'model1_data2_pAkt_tot',\n",
    "                                                          'model1_data3_pAkt_tot', \n",
    "                                                          'model1_data4_pAkt_tot',\n",
    "                                                          'model1_data5_pAkt_tot',\n",
    "                                                          'model1_data6_pAkt_tot'], \n",
    "                                                         ['model1_data1_pS6_tot',\n",
    "                                                          'model1_data2_pS6_tot',\n",
    "                                                          'model1_data3_pS6_tot',\n",
    "                                                          'model1_data4_pS6_tot', \n",
    "                                                          'model1_data5_pS6_tot', \n",
    "                                                          'model1_data6_pS6_tot']],\n",
    "                                        group_by='dataset')"
   ]
  },
  {
   "cell_type": "markdown",
   "metadata": {},
   "source": [
    "To summarize, measurements can be grouped by observables, simulation conditions and datasets with the `plot_problem()` function. This can be specified by setting the value of `group_by` parameter to `'observable'` (default), `'simulation'` or `'dataset'` and by providing corresponding ids in `grouping_list`, which is a list of lists. Each sublist specifies a separate plot and its elements are either simulation condition IDs or observable IDs  or the dataset IDs."
   ]
  }
 ],
 "metadata": {
  "kernelspec": {
   "display_name": "Python 3",
   "language": "python",
   "name": "python3"
  },
  "language_info": {
   "codemirror_mode": {
    "name": "ipython",
    "version": 3
   },
   "file_extension": ".py",
   "mimetype": "text/x-python",
   "name": "python",
   "nbconvert_exporter": "python",
   "pygments_lexer": "ipython3",
   "version": "3.8.10"
  },
  "pycharm": {
   "stem_cell": {
    "cell_type": "raw",
    "metadata": {
     "collapsed": false
    },
    "source": []
   }
  }
 },
 "nbformat": 4,
 "nbformat_minor": 2
}
