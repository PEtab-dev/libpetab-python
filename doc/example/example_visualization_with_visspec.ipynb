{
 "cells": [
  {
   "cell_type": "markdown",
   "metadata": {},
   "source": [
    "# Visualization with visualization specification file\n",
    "\n",
    "\n",
    "As described in the [PEtab documentation](https://petab.readthedocs.io/en/latest/documentation_data_format.html), the visualization specification file (VS) is a tab-separated value file containing the specification of the visualization routines which come with the PEtab repository. In this example, we will  discuss how to specify different visualization settings by means of the VS.\n",
    "\n",
    "Let's plot measurements corresponding to the ones of the models from the Benchmark collection [Fujita_SciSignal2010](https://github.com/Benchmarking-Initiative/Benchmark-Models-PEtab/tree/master/Benchmark-Models/Fujita_SciSignal2010)."
   ]
  },
  {
   "cell_type": "code",
   "execution_count": null,
   "metadata": {},
   "outputs": [],
   "source": [
    "import petab\n",
    "from petab.visualize import plot_data_and_simulation\n",
    "\n",
    "folder = \"example_Fujita/\"\n",
    "data_file_path = folder + \"Fujita_measurementData.tsv\"\n",
    "condition_file_path = folder + \"Fujita_experimentalCondition.tsv\"\n",
    "observables_file_path = folder + \"Fujita_observables.tsv\""
   ]
  },
  {
   "cell_type": "markdown",
   "metadata": {},
   "source": [
    "If no settings are provided, the measurements will be plotted with default settings. Namely, it will be assumed that the independent variable is time, and that data for each observable is to be plotted in a separate subplot. This also applies to the case when VS is empty:"
   ]
  },
  {
   "cell_type": "code",
   "execution_count": null,
   "metadata": {},
   "outputs": [],
   "source": [
    "visualization_file_path = folder + \"/visuSpecs/Fujita_visuSpec_empty.tsv\"\n",
    "\n",
    "pp = petab.Problem.from_files(measurement_file=data_file_path,\n",
    "                              condition_file=condition_file_path,\n",
    "                              observable_files=observables_file_path,\n",
    "                              visualization_files=visualization_file_path)\n",
    "petab.visualize.plot_problem(petab_problem=pp);"
   ]
  },
  {
   "cell_type": "markdown",
   "metadata": {},
   "source": [
    "First of all, let us create a visualization specification file with only mandatory columns. In fact, there is only  one mandatory column: `plotId`.\n",
    "Resulting plot using the VS\n",
    "\n",
    "| plotId |\n",
    "|---|\n",
    "| plot1 |\n",
    "\n",
    "This way, all data will be shown in a single plot, taking time as independent variable."
   ]
  },
  {
   "cell_type": "code",
   "execution_count": null,
   "metadata": {},
   "outputs": [],
   "source": [
    "visualization_file_path = folder + \"/visuSpecs/Fujita_visuSpec_mandatory.tsv\"\n",
    "\n",
    "pp = petab.Problem.from_files(measurement_file=data_file_path,\n",
    "                              condition_file=condition_file_path,\n",
    "                              observable_files=observables_file_path,\n",
    "                              visualization_files=visualization_file_path)\n",
    "\n",
    "petab.visualize.plot_problem(petab_problem=pp);"
   ]
  },
  {
   "cell_type": "markdown",
   "metadata": {},
   "source": [
    "Now let's try adding some settings:\n",
    "\n",
    "| plotId |  xOffset | yScale |\n",
    "|---|---|---|\n",
    "| plot1 | 100 | log |\n"
   ]
  },
  {
   "cell_type": "code",
   "execution_count": null,
   "metadata": {},
   "outputs": [],
   "source": [
    "visualization_file_path = folder + \"/visuSpecs/Fujita_visuSpec_1.tsv\"\n",
    "\n",
    "pp = petab.Problem.from_files(measurement_file=data_file_path,\n",
    "                              condition_file=condition_file_path,\n",
    "                              observable_files=observables_file_path,\n",
    "                              visualization_files=visualization_file_path)\n",
    "\n",
    "petab.visualize.plot_problem(petab_problem=pp);"
   ]
  },
  {
   "cell_type": "markdown",
   "source": [
    "As you can see, the scale of the y-axis changed to a logarithmic one and an offset for the independent variable is set to 100.\n",
    "\n",
    "You can group measurements by observables by adding `yValues` column:\n",
    "\n",
    "| plotId | yValues | yOffset | yScale | plotName |\n",
    "|---|---|---|---|---|\n",
    "| plot1 | pEGFR_tot | 0 | log | pEGFR total |\n",
    "| plot2 | pAkt_tot | 300 | lin | pAkt total and pS6 total|\n",
    "| plot2 | pS6_tot | 305 | lin | pAkt total and pS6 total |\n"
   ],
   "metadata": {
    "collapsed": false
   }
  },
  {
   "cell_type": "code",
   "execution_count": null,
   "metadata": {
    "scrolled": true
   },
   "outputs": [],
   "source": [
    "visualization_file_path = folder + \"/visuSpecs/Fujita_visuSpec_2.tsv\"\n",
    "\n",
    "pp = petab.Problem.from_files(measurement_file=data_file_path,\n",
    "                              condition_file=condition_file_path,\n",
    "                              observable_files=observables_file_path,\n",
    "                              visualization_files=visualization_file_path)\n",
    "\n",
    "petab.visualize.plot_problem(petab_problem=pp);"
   ]
  },
  {
   "cell_type": "markdown",
   "metadata": {},
   "source": [
    "You can also plot individual datasets:\n",
    "\n",
    "| plotId |\tplotTypeSimulation | plotTypeData |\tdatasetId |\txValues |\n",
    "|---|---|---|---|---|\n",
    "| plot1\t| LinePlot | provided | model1_data1_pEGFR_tot | time |\n",
    "| plot2\t| LinePlot | provided | model1_data2_pEGFR_tot | time |\n",
    "| plot2\t| LinePlot | provided | model1_data3_pEGFR_tot | time |\n",
    "| plot3\t| LinePlot | provided | model1_data4_pEGFR_tot | time |\n",
    "| plot3\t| LinePlot | provided | model1_data5_pEGFR_tot | time |\n",
    "| plot3\t| LinePlot | provided | model1_data6_pEGFR_tot | time |"
   ]
  },
  {
   "cell_type": "code",
   "execution_count": null,
   "metadata": {},
   "outputs": [],
   "source": [
    "visualization_file_path = folder + \"/visuSpecs/Fujita_visuSpec_individual_datasets.tsv\"\n",
    "\n",
    "pp = petab.Problem.from_files(measurement_file=data_file_path,\n",
    "                              condition_file=condition_file_path,\n",
    "                              observable_files=observables_file_path,\n",
    "                              visualization_files=visualization_file_path)\n",
    "\n",
    "petab.visualize.plot_problem(petab_problem=pp);"
   ]
  },
  {
   "cell_type": "code",
   "execution_count": null,
   "metadata": {
    "scrolled": true
   },
   "outputs": [],
   "source": [
    "visualization_file_path = folder + \"/visuSpecs/Fujita_visuSpec_datasetIds.tsv\"\n",
    "\n",
    "pp = petab.Problem.from_files(measurement_file=data_file_path,\n",
    "                              condition_file=condition_file_path,\n",
    "                              observable_files=observables_file_path,\n",
    "                              visualization_files=visualization_file_path)\n",
    "\n",
    "petab.visualize.plot_problem(petab_problem=pp);"
   ]
  },
  {
   "cell_type": "markdown",
   "metadata": {
    "pycharm": {
     "name": "#%% md\n"
    }
   },
   "source": [
    "As you can see, with the VS file you have an opportunity to plot each dataset individually or groups of datasets. Refer to the [PEtab documentation](https://petab.readthedocs.io/en/latest/documentation_data_format.html) for descriptions of all possible settings. If you have any questions or encounter some problems, please create an issue. We will be happy to help!"
   ]
  }
 ],
 "metadata": {
  "kernelspec": {
   "display_name": "Python 3",
   "language": "python",
   "name": "python3"
  },
  "language_info": {
   "codemirror_mode": {
    "name": "ipython",
    "version": 3
   },
   "file_extension": ".py",
   "mimetype": "text/x-python",
   "name": "python",
   "nbconvert_exporter": "python",
   "pygments_lexer": "ipython3",
   "version": "3.6.9"
  }
 },
 "nbformat": 4,
 "nbformat_minor": 2
}